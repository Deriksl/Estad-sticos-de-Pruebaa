{
 "cells": [
  {
   "cell_type": "code",
   "execution_count": 55,
   "id": "67586e9e-381d-44c1-ab58-a2eedbb6f78e",
   "metadata": {},
   "outputs": [
    {
     "name": "stdout",
     "output_type": "stream",
     "text": [
      "          Nombre  Altura (cm) Sexo\n",
      "0            Fer          180    M\n",
      "1            Ale          170    M\n",
      "2           Alex          170    M\n",
      "3           Gael          168    M\n",
      "4          Erick          165    M\n",
      "5          Angie          168    F\n",
      "6          Karla          170    F\n",
      "7          Angel          175    M\n",
      "8          Derik          174    M\n",
      "9     Jose Jacal          175    M\n",
      "10  Leo Dorantes          171    M\n",
      "11          Lalo          172    M\n",
      "12       Antonio          170    M\n",
      "13  Luis Hurtado          177    M\n"
     ]
    }
   ],
   "source": [
    "import pandas as pd\n",
    "import numpy as np\n",
    "from scipy import stats\n",
    "\n",
    "# Cargar el archivo CSV\n",
    "data = pd.read_csv(\"Alturas_7mo.csv\")\n",
    "print(data.head(14))\n",
    "\n",
    "# Extraer la columna de alturas\n",
    "altura_column = data['Altura (cm)']\n"
   ]
  },
  {
   "cell_type": "code",
   "execution_count": 56,
   "id": "daef5ff0-6703-4b1f-b394-cde5b9f560cc",
   "metadata": {},
   "outputs": [
    {
     "name": "stdout",
     "output_type": "stream",
     "text": [
      "\n",
      "Prueba T de una muestra\n",
      "Estadístico t: -3.0041, Valor p: 0.0102\n"
     ]
    }
   ],
   "source": [
    "# Hipótesis 1: Prueba T de una muestra para verificar si la media es diferente de 175 cm\n",
    "hip_media = 175\n",
    "media_muestra = np.mean(altura_column)\n",
    "t_stat_una_muestra, p_valor_una_muestra = stats.ttest_1samp(altura_column, hip_media)\n",
    "\n",
    "print(f\"\\nPrueba T de una muestra\\nEstadístico t: {t_stat_una_muestra:.4f}, Valor p: {p_valor_una_muestra:.4f}\")"
   ]
  },
  {
   "cell_type": "code",
   "execution_count": 57,
   "id": "a82e73a9-a358-4d09-844c-22c003b9282a",
   "metadata": {},
   "outputs": [
    {
     "name": "stdout",
     "output_type": "stream",
     "text": [
      "\n",
      "Prueba de varianza (Chi Cuadrada)\n",
      "Estadístico chi-cuadrado: 2.0836, Valor p: 0.9997\n"
     ]
    }
   ],
   "source": [
    "# Hipótesis 2: Prueba de varianza (Chi-cuadrada) para comprobar si la desviación estándar es igual o menor a 10 cm\n",
    "desv_esperada = 10\n",
    "num_muestras = len(altura_column)\n",
    "desv_muestra = np.std(altura_column, ddof=1)\n",
    "chi_stat_2 = (num_muestras - 1) * (desv_muestra**2) / (desv_esperada**2)\n",
    "p_valor_chi = stats.chi2.sf(chi_stat_2, num_muestras - 1)\n",
    "\n",
    "print(f\"\\nPrueba de varianza (Chi Cuadrada)\\nEstadístico chi-cuadrado: {chi_stat_2:.4f}, Valor p: {p_valor_chi:.4f}\")"
   ]
  },
  {
   "cell_type": "code",
   "execution_count": 58,
   "id": "4dc93295-28d5-4c6b-a3a4-4bb5742007a9",
   "metadata": {},
   "outputs": [
    {
     "name": "stdout",
     "output_type": "stream",
     "text": [
      "\n",
      "Prueba t de dos muestras independientes (Hombres vs Mujeres)\n",
      "Estadístico t: 2.0865, Valor p: 0.0917\n"
     ]
    }
   ],
   "source": [
    "# Hipótesis 3: Prueba T de dos muestras independientes (hombres vs mujeres)\n",
    "alturas_h = data[data['Sexo'] == 'M']['Altura (cm)']\n",
    "alturas_m = data[data['Sexo'] == 'F']['Altura (cm)']\n",
    "\n",
    "t_stat_dos_muestras, p_valor_dos_muestras = stats.ttest_ind(alturas_h, alturas_m, equal_var=False)\n",
    "\n",
    "print(f\"\\nPrueba t de dos muestras independientes (Hombres vs Mujeres)\\nEstadístico t: {t_stat_dos_muestras:.4f}, Valor p: {p_valor_dos_muestras:.4f}\")"
   ]
  },
  {
   "cell_type": "markdown",
   "id": "7016e103-e893-4d10-bfe1-361bc9c3f3c2",
   "metadata": {},
   "source": [
    "### Resultados de las Hipótesis\n",
    "\n",
    "1. **Primera hipótesis**: Se aplicó una prueba T de Student, y los resultados indicaron que se rechaza la hipótesis nula, ya que el valor p obtenido es inferior al umbral del 0.05.\n",
    "   \n",
    "2. **Segunda hipótesis**: Tras realizar una prueba T de Student, se determinó que no se rechaza la hipótesis nula, dado que el valor p es superior al 0.05.\n",
    "\n",
    "3. **Tercera hipótesis**: Al aplicar nuevamente una prueba T de Student, los resultados mostraron que no se rechaza la hipótesis nula, ya que el valor p es mayor al 0.05.\n"
   ]
  }
 ],
 "metadata": {
  "kernelspec": {
   "display_name": "Python 3 (ipykernel)",
   "language": "python",
   "name": "python3"
  },
  "language_info": {
   "codemirror_mode": {
    "name": "ipython",
    "version": 3
   },
   "file_extension": ".py",
   "mimetype": "text/x-python",
   "name": "python",
   "nbconvert_exporter": "python",
   "pygments_lexer": "ipython3",
   "version": "3.12.2"
  }
 },
 "nbformat": 4,
 "nbformat_minor": 5
}
