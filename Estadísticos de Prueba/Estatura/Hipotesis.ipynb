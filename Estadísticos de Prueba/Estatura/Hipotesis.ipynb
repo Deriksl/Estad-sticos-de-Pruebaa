{
 "cells": [
  {
   "cell_type": "markdown",
   "id": "1bbb86e1-3a11-4749-bdfc-79294463f61b",
   "metadata": {},
   "source": [
    "## Importación de librerías y carga de datos\n",
    "\n"
   ]
  },
  {
   "cell_type": "code",
   "execution_count": 59,
   "id": "5074ebc7-4acf-4656-ae09-141e569a0a94",
   "metadata": {},
   "outputs": [
    {
     "name": "stdout",
     "output_type": "stream",
     "text": [
      "          Nombre  Altura (cm) Sexo\n",
      "0            Fer          180    M\n",
      "1            Ale          170    M\n",
      "2           Alex          170    M\n",
      "3           Gael          168    M\n",
      "4          Erick          165    M\n",
      "5          Angie          168    F\n",
      "6          Karla          170    F\n",
      "7          Angel          175    M\n",
      "8          Derik          174    M\n",
      "9     Jose Jacal          175    M\n",
      "10  Leo Dorantes          171    M\n",
      "11          Lalo          172    M\n",
      "12       Antonio          170    M\n",
      "13  Luis Hurtado          177    M\n"
     ]
    }
   ],
   "source": [
    "# Importar librerías necesarias\n",
    "import pandas as pd\n",
    "from scipy import stats\n",
    "import matplotlib.pyplot as plt\n",
    "\n",
    "# Cargar los datos del archivo CSV\n",
    "df_alturas = pd.read_csv('Alturas_7mo.csv')\n",
    "\n",
    "# Mostrar los primeros registros del DataFrame\n",
    "print(df_alturas.head(14))\n"
   ]
  },
  {
   "cell_type": "markdown",
   "id": "8a13cf16-bc70-4fae-ba60-44a965a1f8cd",
   "metadata": {},
   "source": [
    "## Prueba T-student\n",
    "\n",
    "Primera hipótesis para comparar si hay una diferencia significativa en la estatura promedio entre hombres y mujeres.\n",
    "\n",
    "**Hipótesis Nula (H₀):** No hay diferencia significativa entre la estatura promedio de hombres y mujeres.\n",
    "\n",
    "**Hipótesis Alternativa (H₁):** Hay una diferencia significativa entre la estatura promedio de hombres y mujeres.\n",
    "\n",
    "Utilizamos la prueba T para dos muestras independientes.\n"
   ]
  },
  {
   "cell_type": "code",
   "execution_count": 60,
   "id": "aa5763cc-ea09-4c28-840c-8e0036f5e5b1",
   "metadata": {},
   "outputs": [
    {
     "name": "stdout",
     "output_type": "stream",
     "text": [
      "T-test entre hombres y mujeres: t_stat=1.068693712516953, p_value=0.3062347024139337\n",
      "No se rechaza la hipótesis nula: no hay una diferencia significativa entre las estaturas de hombres y mujeres.\n"
     ]
    }
   ],
   "source": [
    "# Separar los datos por género\n",
    "hombres = df_alturas[df_alturas['Sexo'] == 'M']['Altura (cm)']\n",
    "mujeres = df_alturas[df_alturas['Sexo'] == 'F']['Altura (cm)']\n",
    "\n",
    "# Realizar la prueba T-student\n",
    "t_stat, p_value_ttest = stats.ttest_ind(hombres, mujeres)\n",
    "print(f\"T-test entre hombres y mujeres: t_stat={t_stat}, p_value={p_value_ttest}\")\n",
    "\n",
    "# Interpretación del resultado\n",
    "if p_value_ttest < 0.05:\n",
    "    print(\"Se rechaza la hipótesis nula: hay una diferencia significativa entre las estaturas de hombres y mujeres.\")\n",
    "else:\n",
    "    print(\"No se rechaza la hipótesis nula: no hay una diferencia significativa entre las estaturas de hombres y mujeres.\")\n"
   ]
  },
  {
   "cell_type": "markdown",
   "id": "29ca67bb-678a-4b9d-8e46-5631bd67bf46",
   "metadata": {},
   "source": [
    "## Prueba de Normalidad (Shapiro-Wilk)\n",
    "\n",
    "Ahora probamos si las estaturas siguen una distribución normal. Esta es una suposición importante para algunas pruebas estadísticas.\n",
    "\n",
    "**Hipótesis Nula (H₀):** Las estaturas siguen una distribución normal.\n",
    "\n",
    "**Hipótesis Alternativa (H₁):** Las estaturas no siguen una distribución normal.\n"
   ]
  },
  {
   "cell_type": "code",
   "execution_count": 61,
   "id": "11ef1024-2923-405c-8235-1181d004b60e",
   "metadata": {},
   "outputs": [
    {
     "name": "stdout",
     "output_type": "stream",
     "text": [
      "Prueba de normalidad (Shapiro-Wilk): w_stat=0.9610110696232878, p_value=0.7397147899865807\n",
      "No se rechaza la hipótesis nula: las estaturas siguen una distribución normal.\n"
     ]
    }
   ],
   "source": [
    "# Prueba de normalidad: Shapiro-Wilk para las estaturas\n",
    "w_stat, p_value_normality = stats.shapiro(df_alturas['Altura (cm)'])\n",
    "print(f\"Prueba de normalidad (Shapiro-Wilk): w_stat={w_stat}, p_value={p_value_normality}\")\n",
    "\n",
    "# Interpretación del resultado\n",
    "if p_value_normality < 0.05:\n",
    "    print(\"Se rechaza la hipótesis nula: las estaturas no siguen una distribución normal.\")\n",
    "else:\n",
    "    print(\"No se rechaza la hipótesis nula: las estaturas siguen una distribución normal.\")\n",
    "\n"
   ]
  },
  {
   "cell_type": "markdown",
   "id": "b91ec3c8-9333-4ace-a2bb-4219e3a6c1a7",
   "metadata": {},
   "source": [
    "## Prueba de Chi-cuadrada\n",
    "\n",
    "Finalmente, realizamos una prueba de Chi-cuadrada para determinar si hay una relación significativa entre el género y el nivel educativo (simulado).\n",
    "\n",
    "**Hipótesis Nula (H₀):** No hay relación significativa entre el género y el nivel educativo.\n",
    "\n",
    "**Hipótesis Alternativa (H₁):** Existe una relación significativa entre el género y el nivel educativo.\n"
   ]
  },
  {
   "cell_type": "code",
   "execution_count": 62,
   "id": "3d6de920-4e74-4f93-9672-fd66555708a9",
   "metadata": {},
   "outputs": [
    {
     "name": "stdout",
     "output_type": "stream",
     "text": [
      "Prueba Chi-Cuadrada: chi2_stat=0.7291666666666666, p_value=0.6944859597510076\n"
     ]
    }
   ],
   "source": [
    "# Definir los niveles educativos\n",
    "niveles_educativos = ['Primaria', 'Secundaria', 'Universidad']\n",
    "\n",
    "# Asignar un nivel educativo aleatorio a cada fila\n",
    "df_alturas['Nivel Educativo'] = np.random.choice(niveles_educativos, size=len(df_alturas))\n",
    "\n",
    "# Tabulación cruzada para la prueba de Chi-cuadrada\n",
    "tabla_contingencia = pd.crosstab(df_alturas['Sexo'], df_alturas['Nivel Educativo'])\n",
    "\n",
    "# Realizar la prueba de Chi-cuadrada\n",
    "chi2_stat, p_value_chi2, dof, expected = stats.chi2_contingency(tabla_contingencia)\n",
    "print(f\"Prueba Chi-Cuadrada: chi2_stat={chi2_stat}, p_value={p_value_chi2}\")\n"
   ]
  },
  {
   "cell_type": "markdown",
   "id": "88e68d24-c8c2-45b8-b98b-00b35d49baaa",
   "metadata": {},
   "source": [
    "## Paso 5: Visualización de los Resultados\n",
    "\n",
    "Finalmente, visualizamos los promedios de estatura entre hombres y mujeres mediante un gráfico de barras.\n"
   ]
  },
  {
   "cell_type": "code",
   "execution_count": 65,
   "id": "d4be3265-a8a0-45ab-be6f-7404afcb95fd",
   "metadata": {},
   "outputs": [
    {
     "data": {
      "image/png": "[encoded data removed]",
      "text/plain": [
       "<Figure size 1000x500 with 1 Axes>"
      ]
     },
     "metadata": {},
     "output_type": "display_data"
    }
   ],
   "source": [
    "# Gráfico de barras de las estaturas promedio\n",
    "promedio_mujeres_estaturas = mujeres.mean()\n",
    "promedio_hombres_estaturas = hombres.mean()\n",
    "\n",
    "plt.figure(figsize=(10, 5))\n",
    "plt.bar(['Mujeres', 'Hombres'], [promedio_mujeres_estaturas, promedio_hombres_estaturas], color=['purple', 'blue'])\n",
    "plt.title('Estatura Promedio por Género')\n",
    "plt.ylabel('Altura (cm)')\n",
    "plt.show()\n",
    "\n"
   ]
  },
  {
   "cell_type": "markdown",
   "id": "e4491e0d-9b3b-491e-8965-04829cb6bdaf",
   "metadata": {},
   "source": [
    "### Interpretación final:\n",
    "- Después de realizar las pruebas estadísticas y observar los valores p obtenidos, podemos tomar decisiones sobre las hipótesis planteadas.\n",
    "- En la visualización, se puede observar la diferencia entre las estaturas promedio de hombres y mujeres, complementando el resultado del T-test.\n"
   ]
  }
 ],
 "metadata": {
  "kernelspec": {
   "display_name": "Python 3 (ipykernel)",
   "language": "python",
   "name": "python3"
  },
  "language_info": {
   "codemirror_mode": {
    "name": "ipython",
    "version": 3
   },
   "file_extension": ".py",
   "mimetype": "text/x-python",
   "name": "python",
   "nbconvert_exporter": "python",
   "pygments_lexer": "ipython3",
   "version": "3.12.2"
  }
 },
 "nbformat": 4,
 "nbformat_minor": 5
}
