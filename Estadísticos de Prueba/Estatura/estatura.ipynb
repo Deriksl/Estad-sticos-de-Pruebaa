{
 "cells": [
  {
   "cell_type": "markdown",
   "metadata": {},
   "source": [
    "# Importaciones"
   ]
  },
  {
   "cell_type": "code",
   "execution_count": 15,
   "metadata": {},
   "outputs": [],
   "source": [
    "import pandas as pd\n",
    "import matplotlib.pyplot as plt\n",
    "import numpy as np\n",
    "%matplotlib inline"
   ]
  },
  {
   "cell_type": "markdown",
   "metadata": {},
   "source": [
    "## jalando archivo"
   ]
  },
  {
   "cell_type": "code",
   "execution_count": 16,
   "metadata": {},
   "outputs": [
    {
     "data": {
      "text/html": [
       "<div>\n",
       "<style scoped>\n",
       "    .dataframe tbody tr th:only-of-type {\n",
       "        vertical-align: middle;\n",
       "    }\n",
       "\n",
       "    .dataframe tbody tr th {\n",
       "        vertical-align: top;\n",
       "    }\n",
       "\n",
       "    .dataframe thead th {\n",
       "        text-align: right;\n",
       "    }\n",
       "</style>\n",
       "<table border=\"1\" class=\"dataframe\">\n",
       "  <thead>\n",
       "    <tr style=\"text-align: right;\">\n",
       "      <th></th>\n",
       "      <th>Nombre</th>\n",
       "      <th>Altura (cm)</th>\n",
       "      <th>Sexo</th>\n",
       "    </tr>\n",
       "  </thead>\n",
       "  <tbody>\n",
       "    <tr>\n",
       "      <th>0</th>\n",
       "      <td>Fer</td>\n",
       "      <td>180</td>\n",
       "      <td>M</td>\n",
       "    </tr>\n",
       "    <tr>\n",
       "      <th>1</th>\n",
       "      <td>Ale</td>\n",
       "      <td>170</td>\n",
       "      <td>M</td>\n",
       "    </tr>\n",
       "    <tr>\n",
       "      <th>2</th>\n",
       "      <td>Alex</td>\n",
       "      <td>170</td>\n",
       "      <td>M</td>\n",
       "    </tr>\n",
       "    <tr>\n",
       "      <th>3</th>\n",
       "      <td>Gael</td>\n",
       "      <td>168</td>\n",
       "      <td>M</td>\n",
       "    </tr>\n",
       "    <tr>\n",
       "      <th>4</th>\n",
       "      <td>Erick</td>\n",
       "      <td>165</td>\n",
       "      <td>M</td>\n",
       "    </tr>\n",
       "  </tbody>\n",
       "</table>\n",
       "</div>"
      ],
      "text/plain": [
       "  Nombre  Altura (cm) Sexo\n",
       "0    Fer          180    M\n",
       "1    Ale          170    M\n",
       "2   Alex          170    M\n",
       "3   Gael          168    M\n",
       "4  Erick          165    M"
      ]
     },
     "execution_count": 16,
     "metadata": {},
     "output_type": "execute_result"
    }
   ],
   "source": [
    "# Cargar el archivo CSV\n",
    "df_alturas = pd.read_csv('Alturas_7mo.csv')\n",
    "df_alturas.head()"
   ]
  },
  {
   "cell_type": "code",
   "execution_count": 17,
   "metadata": {},
   "outputs": [
    {
     "name": "stdout",
     "output_type": "stream",
     "text": [
      "Promedio general de estaturas: 171.78571428571428 cm\n",
      "Desviación estándar de estaturas: 4.003432593097144 cm\n"
     ]
    }
   ],
   "source": [
    "# Promedio de estaturas general\n",
    "promedio_general_estaturas = df_alturas['Altura (cm)'].mean()\n",
    "print(f'Promedio general de estaturas: {promedio_general_estaturas} cm')\n",
    "\n",
    "# Desviación estándar\n",
    "desviacion_estaturas = df_alturas['Altura (cm)'].std()\n",
    "print(f'Desviación estándar de estaturas: {desviacion_estaturas} cm')"
   ]
  },
  {
   "cell_type": "markdown",
   "metadata": {},
   "source": [
    "## 3. Es diferente la estatura promedio de las mujeres comparada de los hombres?"
   ]
  },
  {
   "cell_type": "code",
   "execution_count": 21,
   "metadata": {},
   "outputs": [
    {
     "name": "stdout",
     "output_type": "stream",
     "text": [
      "Estatura promedio de mujeres: 169.0 cm\n",
      "Estatura promedio de hombres: 172.25 cm\n"
     ]
    },
    {
     "data": {
      "image/png": "[encoded data removed]",
      "text/plain": [
       "<Figure size 1000x500 with 1 Axes>"
      ]
     },
     "metadata": {},
     "output_type": "display_data"
    }
   ],
   "source": [
    "# Promedio de estaturas por género\n",
    "promedio_mujeres_estaturas = df_alturas[df_alturas['Sexo'] == 'F']['Altura (cm)'].mean()\n",
    "promedio_hombres_estaturas = df_alturas[df_alturas['Sexo'] == 'M']['Altura (cm)'].mean()\n",
    "\n",
    "# Conteo de hombres y mujeres\n",
    "cantidad_mujeres = df_alturas[df_alturas['Sexo'] == 'F']['Altura (cm)'].count()\n",
    "cantidad_hombres = df_alturas[df_alturas['Sexo'] == 'M']['Altura (cm)'].count()\n",
    "\n",
    "# Gráfico de barras para las estaturas\n",
    "plt.figure(figsize=(10, 5))\n",
    "plt.subplot(1, 2, 1)\n",
    "plt.bar([f'{cantidad_mujeres} Mujeres', f'{cantidad_hombres} Hombres'], [promedio_mujeres_estaturas, promedio_hombres_estaturas], color=['purple', 'blue'])\n",
    "plt.title('Estatura Promedio por Género')\n",
    "plt.ylabel('Altura (cm)')\n",
    "\n",
    "print(f'Estatura promedio de mujeres: {promedio_mujeres_estaturas} cm')\n",
    "print(f'Estatura promedio de hombres: {promedio_hombres_estaturas} cm')"
   ]
  },
  {
   "cell_type": "code",
   "execution_count": null,
   "metadata": {},
   "outputs": [],
   "source": []
  }
 ],
 "metadata": {
  "kernelspec": {
   "display_name": "Python 3 (ipykernel)",
   "language": "python",
   "name": "python3"
  },
  "language_info": {
   "codemirror_mode": {
    "name": "ipython",
    "version": 3
   },
   "file_extension": ".py",
   "mimetype": "text/x-python",
   "name": "python",
   "nbconvert_exporter": "python",
   "pygments_lexer": "ipython3",
   "version": "3.12.2"
  }
 },
 "nbformat": 4,
 "nbformat_minor": 4
}
